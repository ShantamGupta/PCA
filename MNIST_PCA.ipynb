{
 "cells": [
  {
   "cell_type": "markdown",
   "metadata": {},
   "source": [
    "# PCA With MNIST"
   ]
  },
  {
   "cell_type": "code",
   "execution_count": 1,
   "metadata": {
    "collapsed": true
   },
   "outputs": [],
   "source": [
    "import numpy as np\n",
    "import mnist\n",
    "from sklearn.decomposition import PCA \n",
    "from sklearn.linear_model import LogisticRegression\n",
    "from sklearn.model_selection import train_test_split\n",
    "from sklearn.metrics import confusion_matrix\n",
    "from sklearn.metrics import classification_report\n",
    "from sklearn import tree\n",
    "import matplotlib.pyplot as plt\n",
    "import graphviz \n",
    "import collections"
   ]
  },
  {
   "cell_type": "markdown",
   "metadata": {},
   "source": [
    "# Load the Data"
   ]
  },
  {
   "cell_type": "code",
   "execution_count": 2,
   "metadata": {
    "collapsed": true
   },
   "outputs": [],
   "source": [
    " #training data \n",
    "train_images = mnist.train_images()\n",
    "train_labels = mnist.train_labels()\n",
    "\n",
    "#test data\n",
    "test_images = mnist.test_images()\n",
    "test_labels = mnist.test_labels()\n",
    "\n",
    "#print the shape \n",
    "mnist_train = train_images.flatten().reshape(60000,784)\n",
    "mnist_test = test_images.flatten().reshape(10000,784)\n",
    "\n",
    "\n",
    "Y_train = mnist.train_labels()\n",
    "Y_test = mnist.test_labels()"
   ]
  },
  {
   "cell_type": "markdown",
   "metadata": {},
   "source": [
    "## PCA"
   ]
  },
  {
   "cell_type": "code",
   "execution_count": 4,
   "metadata": {
    "collapsed": true
   },
   "outputs": [],
   "source": [
    "#set random seed\n",
    "np.random.seed(42)\n",
    "\n",
    "#finding the mean of predictors \n",
    "mean_train = np.mean(mnist_train,axis = 0)\n",
    "\n",
    "#subtracting the mean of each predictor from the input data \n",
    "mnist_mean_train = mnist_train - mean_train\n",
    "\n",
    "mnist_mean_test = mnist_test - mean_train\n",
    "\n",
    "\n",
    "#finding the covariance matrix\n",
    "cov = np.cov(mnist_mean_train.T)\n",
    "\n",
    "#computing eigen vectcors and eigen values from the covariance matrix\n",
    "eigen_value,eigen_vector = np.linalg.eig(cov)\n",
    "\n",
    "\n",
    "\n",
    "#make a tuple of eigen pairs\n",
    "eigen_pair = [(eigen_value[i], eigen_vector[:,i]) for i in range(len(eigen_value))]\n",
    "\n",
    "\n",
    "#sort the list in decreasing order of eigen values\n",
    "eigen_pair.sort(key = lambda x: x[0], reverse = True)\n"
   ]
  },
  {
   "cell_type": "markdown",
   "metadata": {},
   "source": [
    "## Selecting top Components from PCA"
   ]
  },
  {
   "cell_type": "code",
   "execution_count": 5,
   "metadata": {},
   "outputs": [
    {
     "name": "stderr",
     "output_type": "stream",
     "text": [
      "C:\\Users\\Shantam Gupta\\Anaconda3\\lib\\site-packages\\matplotlib\\patches.py:693: ComplexWarning: Casting complex values to real discards the imaginary part\n",
      "  self._height = float(height)\n"
     ]
    },
    {
     "data": {
      "image/png": "[encoded data removed]",
      "text/plain": [
       "<matplotlib.figure.Figure at 0x1e85f42f3c8>"
      ]
     },
     "metadata": {},
     "output_type": "display_data"
    }
   ],
   "source": [
    "#How many PCA do we need \n",
    "\n",
    "total = sum(eigen_value)\n",
    "var_exp = [i*100/total  for i in range(len(sorted(eigen_value, reverse = True)))]\n",
    "cum_var_exp = np.cumsum(var_exp)[::-1] # reverse the array\n",
    "\n",
    "plt.bar(np.arange(0,len(eigen_value),1), cum_var_exp)\n",
    "plt.xlabel(\"Index of Sorted Eigern Values\")\n",
    "plt.ylabel(\"%variance Explained\")\n",
    "plt.show()\n"
   ]
  },
  {
   "cell_type": "code",
   "execution_count": 6,
   "metadata": {
    "collapsed": true
   },
   "outputs": [],
   "source": [
    "W = eigen_pair[0][1].reshape(784,1)\n",
    "#take first 5, 20 eigen vectors\n",
    "for i in range(1,5):\n",
    "    W = np.hstack((W,eigen_pair[i][1].reshape(784,1)))\n",
    "    \n",
    "#transforming original X into new 60,000 * 5 features\n",
    "pca_5_train =  mnist_mean_train.dot(W)\n",
    "pca_5_test =   mnist_mean_test.dot(W)\n"
   ]
  },
  {
   "cell_type": "markdown",
   "metadata": {},
   "source": [
    "## Building Models with reduced dimensions"
   ]
  },
  {
   "cell_type": "code",
   "execution_count": 7,
   "metadata": {},
   "outputs": [
    {
     "name": "stderr",
     "output_type": "stream",
     "text": [
      "C:\\Users\\Shantam Gupta\\Anaconda3\\lib\\site-packages\\sklearn\\utils\\validation.py:382: ComplexWarning: Casting complex values to real discards the imaginary part\n",
      "  array = np.array(array, dtype=dtype, order=order, copy=copy)\n"
     ]
    },
    {
     "name": "stdout",
     "output_type": "stream",
     "text": [
      "0.64345\n",
      "0.6525\n"
     ]
    }
   ],
   "source": [
    "##################################################################\n",
    "#Logistic Regression model\n",
    "log_model = LogisticRegression(penalty=\"l2\",C = 1)\n",
    "log_model.fit(pca_5_train,Y_train)\n",
    "\n",
    "#accuracy on train data\n",
    "print(log_model.score(pca_5_train,Y_train))\n",
    "#.6435\n",
    "\n",
    "\n",
    "#Accuracy on test data\n",
    "print(log_model.score(pca_5_test,Y_test))\n",
    "#.6525"
   ]
  },
  {
   "cell_type": "code",
   "execution_count": 8,
   "metadata": {},
   "outputs": [
    {
     "name": "stderr",
     "output_type": "stream",
     "text": [
      "C:\\Users\\Shantam Gupta\\Anaconda3\\lib\\site-packages\\sklearn\\utils\\validation.py:382: ComplexWarning: Casting complex values to real discards the imaginary part\n",
      "  array = np.array(array, dtype=dtype, order=order, copy=copy)\n"
     ]
    },
    {
     "name": "stdout",
     "output_type": "stream",
     "text": [
      "1.0\n",
      "0.6712\n"
     ]
    }
   ],
   "source": [
    "###################################################\n",
    "#Building the Decision Tree Model\n",
    "clf = tree.DecisionTreeClassifier()\n",
    "clf.fit(pca_5_train,Y_train)\n",
    "\n",
    "#accuracy on train data\n",
    "print(clf.score(pca_5_train,Y_train))\n",
    "#1\n",
    "\n",
    "#Accuracy on test data\n",
    "print(clf.score(pca_5_test,Y_test))\n",
    "#.6712"
   ]
  }
 ],
 "metadata": {
  "kernelspec": {
   "display_name": "Python 3",
   "language": "python",
   "name": "python3"
  },
  "language_info": {
   "codemirror_mode": {
    "name": "ipython",
    "version": 3
   },
   "file_extension": ".py",
   "mimetype": "text/x-python",
   "name": "python",
   "nbconvert_exporter": "python",
   "pygments_lexer": "ipython3",
   "version": "3.5.3"
  }
 },
 "nbformat": 4,
 "nbformat_minor": 2
}
